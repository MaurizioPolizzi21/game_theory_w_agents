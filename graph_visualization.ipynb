{
 "cells": [
  {
   "cell_type": "markdown",
   "metadata": {},
   "source": [
    "# Prisoner's Dilemma Graph Visualization - Updated\n",
    "\n",
    "This notebook visualizes the LangGraph structure for the Prisoner's Dilemma game with sequential agent execution and counter-based loop control. Each agent can make up to 5 attempts."
   ]
  },
  {
   "cell_type": "code",
   "execution_count": 1,
   "metadata": {},
   "outputs": [],
   "source": [
    "from langchain_ollama.llms import OllamaLLM\n",
    "from langgraph.graph import START, END, StateGraph, MessagesState\n",
    "from typing import TypedDict\n",
    "from langgraph.checkpoint.memory import InMemorySaver\n",
    "from prompt import good_player_prompt, bad_player_prompt\n",
    "import json\n",
    "from IPython.display import Image, display\n",
    "from langchain_core.runnables.graph import CurveStyle, MermaidDrawMethod, NodeStyles"
   ]
  },
  {
   "cell_type": "code",
   "execution_count": 2,
   "metadata": {},
   "outputs": [],
   "source": [
    "# model setup\n",
    "model = \"mistral:latest\"\n",
    "llm = OllamaLLM(model=model)\n",
    "\n",
    "#memory setup\n",
    "checkpointer = InMemorySaver()\n",
    "config = { \"configurable\": { \"thread_id\": \"1\" } }"
   ]
  },
  {
   "cell_type": "code",
   "execution_count": 3,
   "metadata": {},
   "outputs": [],
   "source": [
    "# subgraph state setup - UPDATED with separate counters\n",
    "class SubgraphState(TypedDict):\n",
    "    agent_1_prompt: str\n",
    "    agent_1_choice: list[str]\n",
    "    agent_2_prompt: str\n",
    "    agent_2_choice: list[str]\n",
    "    agent_1_counter: int\n",
    "    agent_2_counter: int\n",
    "\n",
    "# subgraph nodes setup - UPDATED with counter increments\n",
    "def Agent1(state: SubgraphState):\n",
    "    \"\"\"\n",
    "    Node Agent1 invokes the model with the prompt set in the state's\n",
    "    \"agent_1_prompt\" key. The response is added to the list of\n",
    "    \"agent_1_choice\" with the current counter value incremented by 1.\n",
    "    \"\"\"\n",
    "    messages = llm.invoke(state[\"agent_1_prompt\"])\n",
    "    if isinstance(messages, str):\n",
    "        response= json.loads(messages)\n",
    "    return {\"agent_1_choice\": state[\"agent_1_choice\"] + [response[\"agent_choice\"]], \"agent_1_counter\": state[\"agent_1_counter\"] + 1}\n",
    "\n",
    "def Agent2(state: SubgraphState):\n",
    "    \"\"\"\n",
    "    Node Agent2 invokes the model with the prompt set in the state's\n",
    "    \"agent_2_prompt\" key. The response is added to the list of\n",
    "    \"agent_2_choice\" with the current counter value incremented by 1.\n",
    "    \"\"\"\n",
    "    messages = llm.invoke(state[\"agent_2_prompt\"])\n",
    "    if isinstance(messages, str):\n",
    "        response= json.loads(messages)\n",
    "    return {\"agent_2_choice\": state[\"agent_2_choice\"] + [response[\"agent_choice\"]], \"agent_2_counter\": state[\"agent_2_counter\"] + 1}\n",
    "\n",
    "def should_continue(state: SubgraphState) -> str:\n",
    "    \"\"\"This node checks if each agent has made 5 attempts.\n",
    "\n",
    "    If either agent has fewer than 5 attempts, it returns 'loop' to continue.\n",
    "    If both agents have made 5 attempts, it returns 'exit' to terminate.\n",
    "    \"\"\"\n",
    "    if state[\"agent_1_counter\"] < 5 or state[\"agent_2_counter\"] < 5:\n",
    "        return \"loop\"\n",
    "    else:\n",
    "        return \"exit\""
   ]
  },
  {
   "cell_type": "code",
   "execution_count": 4,
   "metadata": {},
   "outputs": [],
   "source": [
    "# subgraph setup - SEQUENTIAL EXECUTION WITH LOOPS\n",
    "subgraph_builder = StateGraph(SubgraphState)\n",
    "subgraph_builder.add_node(\"Agent1\", Agent1)\n",
    "subgraph_builder.add_node(\"Agent2\", Agent2)\n",
    "\n",
    "# Sequential execution starting\n",
    "subgraph_builder.add_edge(START, \"Agent1\")\n",
    "subgraph_builder.add_edge(START, \"Agent2\")\n",
    "\n",
    "# Add conditional edges for both agents to allow looping\n",
    "subgraph_builder.add_conditional_edges(\"Agent1\",\n",
    "                                should_continue,\n",
    "                                {\n",
    "                                    \"loop\": \"Agent1\",  # If 'loop', repeat the loop\n",
    "                                    \"exit\": END,       # If 'exit', terminate the workflow\n",
    "                                })\n",
    "subgraph_builder.add_conditional_edges(\"Agent2\",\n",
    "                                should_continue,\n",
    "                                {\n",
    "                                    \"loop\": \"Agent2\",  # If 'loop', repeat the loop\n",
    "                                    \"exit\": END,       # If 'exit', terminate the workflow\n",
    "                                })\n",
    "subgraph = subgraph_builder.compile(checkpointer=checkpointer)"
   ]
  },
  {
   "cell_type": "code",
   "execution_count": 5,
   "metadata": {},
   "outputs": [
    {
     "name": "stdout",
     "output_type": "stream",
     "text": [
      "=== SUBGRAPH VISUAL (Updated with Counters and Loop Logic) ===\n"
     ]
    },
    {
     "data": {
      "image/png": "[encoded data removed]",
      "text/plain": [
       "<IPython.core.display.Image object>"
      ]
     },
     "metadata": {},
     "output_type": "display_data"
    }
   ],
   "source": [
    "print(\"=== SUBGRAPH VISUAL (Updated with Counters and Loop Logic) ===\")\n",
    "display(Image(subgraph.get_graph().draw_mermaid_png()))"
   ]
  },
  {
   "cell_type": "markdown",
   "metadata": {},
   "source": [
    "## Main Graph Setup\n",
    "\n",
    "The main graph contains the parent state and transform function that initializes and invokes the subgraph."
   ]
  },
  {
   "cell_type": "code",
   "execution_count": 6,
   "metadata": {},
   "outputs": [],
   "source": [
    "# graph state setup\n",
    "class ParentState(TypedDict):\n",
    "    agent_1_choice_parent: list[str]\n",
    "    agent_2_choice_parent: list[str]\n",
    "    \n",
    "# graph node setup - UPDATED to include counter initialization\n",
    "def transform(state: ParentState):\n",
    "    response = subgraph.invoke({\"agent_1_choice\": state[\"agent_1_choice_parent\"], \n",
    "    \"agent_2_choice\": state[\"agent_2_choice_parent\"], \"agent_1_prompt\": good_player_prompt,\n",
    "    \"agent_2_prompt\": bad_player_prompt, \"agent_1_counter\": 1, \"agent_2_counter\": 1}, config=config)\n",
    "\n",
    "    print(\"Subgraph State History:\")\n",
    "    print(\"\\n\")\n",
    "    for event in subgraph.stream({\"agent_1_choice\": state[\"agent_1_choice_parent\"], \n",
    "    \"agent_2_choice\": state[\"agent_2_choice_parent\"], \"agent_1_prompt\": good_player_prompt,\n",
    "    \"agent_2_prompt\": bad_player_prompt, \"agent_1_counter\": 1, \"agent_2_counter\": 1}, config=config):\n",
    "        print(event)\n",
    "    print(\"\\n\")\n",
    "    print(\"Subgraph State History End\")\n",
    "    print(\"\\n\")\n",
    "    \n",
    "    return {\"agent_1_choice_parent\": response[\"agent_1_choice\"], \"agent_2_choice_parent\": response[\"agent_2_choice\"]}\n",
    "\n",
    "graph_builder = StateGraph(ParentState)\n",
    "graph_builder.add_node(\"transform\", transform)\n",
    "graph_builder.add_edge(START, \"transform\")\n",
    "graph_builder.add_edge(\"transform\", END)\n",
    "graph = graph_builder.compile(checkpointer=checkpointer)"
   ]
  },
  {
   "cell_type": "code",
   "execution_count": 7,
   "metadata": {},
   "outputs": [
    {
     "name": "stdout",
     "output_type": "stream",
     "text": [
      "=== MAIN GRAPH VISUAL ===\n"
     ]
    },
    {
     "data": {
      "image/png": "[encoded data removed]",
      "text/plain": [
       "<IPython.core.display.Image object>"
      ]
     },
     "metadata": {},
     "output_type": "display_data"
    }
   ],
   "source": [
    "print(\"=== MAIN GRAPH VISUAL ===\")\n",
    "display(Image(graph.get_graph().draw_mermaid_png()))"
   ]
  },
  {
   "cell_type": "markdown",
   "metadata": {},
   "source": [
    "## Game Execution\n",
    "\n",
    "Run the complete game with the updated logic."
   ]
  },
  {
   "cell_type": "code",
   "execution_count": 8,
   "metadata": {},
   "outputs": [
    {
     "name": "stdout",
     "output_type": "stream",
     "text": [
      "Subgraph State History:\n",
      "\n",
      "\n",
      "{'Agent2': {'agent_2_choice': ['DEFECT'], 'agent_2_counter': 2}}\n",
      "{'Agent1': {'agent_1_choice': ['COOPERATE'], 'agent_1_counter': 2}}\n",
      "{'Agent1': {'agent_1_choice': ['COOPERATE', 'COOPERATE'], 'agent_1_counter': 3}}\n",
      "{'Agent2': {'agent_2_choice': ['DEFECT', 'DEFECT'], 'agent_2_counter': 3}}\n",
      "{'Agent2': {'agent_2_choice': ['DEFECT', 'DEFECT', 'DEFECT'], 'agent_2_counter': 4}}\n",
      "{'Agent1': {'agent_1_choice': ['COOPERATE', 'COOPERATE', 'COOPERATE'], 'agent_1_counter': 4}}\n",
      "{'Agent2': {'agent_2_choice': ['DEFECT', 'DEFECT', 'DEFECT', 'DEFECT'], 'agent_2_counter': 5}}\n",
      "{'Agent1': {'agent_1_choice': ['COOPERATE', 'COOPERATE', 'COOPERATE', 'COOPERATE'], 'agent_1_counter': 5}}\n",
      "{'Agent2': {'agent_2_choice': ['DEFECT', 'DEFECT', 'DEFECT', 'DEFECT', 'DEFECT'], 'agent_2_counter': 6}}\n",
      "{'Agent1': {'agent_1_choice': ['COOPERATE', 'COOPERATE', 'COOPERATE', 'COOPERATE', 'COOPERATE'], 'agent_1_counter': 6}}\n",
      "\n",
      "\n",
      "Subgraph State History End\n",
      "\n",
      "\n",
      "((), {'transform': {'agent_1_choice_parent': ['COOPERATE', 'COOPERATE', 'COOPERATE', 'COOPERATE', 'COOPERATE'], 'agent_2_choice_parent': ['DEFECT', 'DEFECT', 'DEFECT', 'DEFECT', 'DEFECT']}})\n"
     ]
    }
   ],
   "source": [
    "def run_game():\n",
    "    for event in graph.stream({\n",
    "        \"agent_1_choice_parent\": [],\n",
    "        \"agent_2_choice_parent\": []\n",
    "    }, subgraphs=True, config=config):\n",
    "        print(event)\n",
    "\n",
    "# Uncomment to run the game\n",
    "run_game()"
   ]
  },
  {
   "cell_type": "code",
   "execution_count": null,
   "metadata": {},
   "outputs": [],
   "source": []
  }
 ],
 "metadata": {
  "kernelspec": {
   "display_name": ".venv",
   "language": "python",
   "name": "python3"
  },
  "language_info": {
   "codemirror_mode": {
    "name": "ipython",
    "version": 3
   },
   "file_extension": ".py",
   "mimetype": "text/x-python",
   "name": "python",
   "nbconvert_exporter": "python",
   "pygments_lexer": "ipython3",
   "version": "3.13.3"
  }
 },
 "nbformat": 4,
 "nbformat_minor": 4
}
