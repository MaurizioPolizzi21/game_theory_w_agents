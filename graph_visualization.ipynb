{
 "cells": [
  {
   "cell_type": "markdown",
   "metadata": {},
   "source": [
    "# Prisoner's Dilemma Graph Visualization - Updated\n",
    "\n",
    "This notebook visualizes the LangGraph structure for the Prisoner's Dilemma game with sequential agent execution and counter-based loop control. Each agent can make up to 5 attempts."
   ]
  },
  {
   "cell_type": "code",
   "execution_count": null,
   "metadata": {},
   "outputs": [],
   "source": [
    "from langchain_ollama.llms import OllamaLLM\n",
    "from langgraph.graph import START, END, StateGraph, MessagesState\n",
    "from typing import TypedDict\n",
    "from langgraph.checkpoint.memory import InMemorySaver\n",
    "from prompt import good_player_prompt, bad_player_prompt\n",
    "import json\n",
    "from IPython.display import Image, display\n",
    "from langchain_core.runnables.graph import CurveStyle, MermaidDrawMethod, NodeStyles"
   ]
  },
  {
   "cell_type": "code",
   "execution_count": null,
   "metadata": {},
   "outputs": [],
   "source": [
    "# model setup\n",
    "model = \"mistral:latest\"\n",
    "llm = OllamaLLM(model=model)\n",
    "\n",
    "#memory setup\n",
    "checkpointer = InMemorySaver()\n",
    "config = { \"configurable\": { \"thread_id\": \"1\" } }"
   ]
  },
  {
   "cell_type": "code",
   "execution_count": null,
   "metadata": {},
   "outputs": [],
   "source": [
    "# subgraph state setup - UPDATED with separate counters\n",
    "class SubgraphState(TypedDict):\n",
    "    agent_1_prompt: str\n",
    "    agent_1_choice: list[str]\n",
    "    agent_2_prompt: str\n",
    "    agent_2_choice: list[str]\n",
    "    agent_1_counter: int\n",
    "    agent_2_counter: int\n",
    "\n",
    "# subgraph nodes setup - UPDATED with counter increments\n",
    "def Agent1(state: SubgraphState):\n",
    "    \"\"\"\n",
    "    Node Agent1 invokes the model with the prompt set in the state's\n",
    "    \"agent_1_prompt\" key. The response is added to the list of\n",
    "    \"agent_1_choice\" with the current counter value incremented by 1.\n",
    "    \"\"\"\n",
    "    messages = llm.invoke(state[\"agent_1_prompt\"])\n",
    "    if isinstance(messages, str):\n",
    "        response= json.loads(messages)\n",
    "    return {\"agent_1_choice\": state[\"agent_1_choice\"] + [response[\"agent_choice\"]], \"agent_1_counter\": state[\"agent_1_counter\"] + 1}\n",
    "\n",
    "def Agent2(state: SubgraphState):\n",
    "    \"\"\"\n",
    "    Node Agent2 invokes the model with the prompt set in the state's\n",
    "    \"agent_2_prompt\" key. The response is added to the list of\n",
    "    \"agent_2_choice\" with the current counter value incremented by 1.\n",
    "    \"\"\"\n",
    "    messages = llm.invoke(state[\"agent_2_prompt\"])\n",
    "    if isinstance(messages, str):\n",
    "        response= json.loads(messages)\n",
    "    return {\"agent_2_choice\": state[\"agent_2_choice\"] + [response[\"agent_choice\"]], \"agent_2_counter\": state[\"agent_2_counter\"] + 1}\n",
    "\n",
    "def should_continue(state: SubgraphState) -> str:\n",
    "    \"\"\"This node checks if each agent has made 5 attempts.\n",
    "\n",
    "    If either agent has fewer than 5 attempts, it returns 'loop' to continue.\n",
    "    If both agents have made 5 attempts, it returns 'exit' to terminate.\n",
    "    \"\"\"\n",
    "    if state[\"agent_1_counter\"] < 5 or state[\"agent_2_counter\"] < 5:\n",
    "        return \"loop\"\n",
    "    else:\n",
    "        return \"exit\""
   ]
  },
  {
   "cell_type": "code",
   "execution_count": null,
   "metadata": {},
   "outputs": [],
   "source": [
    "# subgraph setup - SEQUENTIAL EXECUTION WITH LOOPS\n",
    "subgraph_builder = StateGraph(SubgraphState)\n",
    "subgraph_builder.add_node(\"Agent1\", Agent1)\n",
    "subgraph_builder.add_node(\"Agent2\", Agent2)\n",
    "\n",
    "# Sequential execution starting with Agent2\n",
    "subgraph_builder.add_edge(START, \"Agent2\")\n",
    "subgraph_builder.add_edge(\"Agent1\", \"Agent2\")\n",
    "\n",
    "# Add conditional edges for both agents to allow looping\n",
    "subgraph_builder.add_conditional_edges(\"Agent1\",\n",
    "                                should_continue,\n",
    "                                {\n",
    "                                    \"loop\": \"Agent1\",  # If 'loop', repeat the loop\n",
    "                                    \"exit\": END,       # If 'exit', terminate the workflow\n",
    "                                })\n",
    "subgraph_builder.add_conditional_edges(\"Agent2\",\n",
    "                                should_continue,\n",
    "                                {\n",
    "                                    \"loop\": \"Agent2\",  # If 'loop', repeat the loop\n",
    "                                    \"exit\": END,       # If 'exit', terminate the workflow\n",
    "                                })\n",
    "subgraph = subgraph_builder.compile(checkpointer=checkpointer)"
   ]
  },
  {
   "cell_type": "code",
   "execution_count": null,
   "metadata": {},
   "outputs": [],
   "source": [
    "print(\"=== SUBGRAPH VISUAL (Updated with Counters and Loop Logic) ===\")\n",
    "display(Image(subgraph.get_graph().draw_mermaid_png()))"
   ]
  },
  {
   "cell_type": "markdown",
   "metadata": {},
   "source": [
    "## Main Graph Setup\n",
    "\n",
    "The main graph contains the parent state and transform function that initializes and invokes the subgraph."
   ]
  },
  {
   "cell_type": "code",
   "execution_count": null,
   "metadata": {},
   "outputs": [],
   "source": [
    "# graph state setup\n",
    "class ParentState(TypedDict):\n",
    "    agent_1_choice_parent: list[str]\n",
    "    agent_2_choice_parent: list[str]\n",
    "    \n",
    "# graph node setup - UPDATED to include counter initialization\n",
    "def transform(state: ParentState):\n",
    "    response = subgraph.invoke({\"agent_1_choice\": state[\"agent_1_choice_parent\"], \n",
    "    \"agent_2_choice\": state[\"agent_2_choice_parent\"], \"agent_1_prompt\": good_player_prompt,\n",
    "    \"agent_2_prompt\": bad_player_prompt, \"agent_1_counter\": 0, \"agent_2_counter\": 0}, config=config)\n",
    "\n",
    "    print(\"Subgraph State History:\")\n",
    "    print(\"\\n\")\n",
    "    for event in subgraph.stream({\"agent_1_choice\": state[\"agent_1_choice_parent\"], \n",
    "    \"agent_2_choice\": state[\"agent_2_choice_parent\"], \"agent_1_prompt\": good_player_prompt,\n",
    "    \"agent_2_prompt\": bad_player_prompt, \"agent_1_counter\": 0, \"agent_2_counter\": 0}, config=config):\n",
    "        print(event)\n",
    "    print(\"Subgraph State History End\")\n",
    "    print(\"\\n\")\n",
    "    \n",
    "    return {\"agent_1_choice_parent\": response[\"agent_1_choice\"], \"agent_2_choice_parent\": response[\"agent_2_choice\"]}\n",
    "\n",
    "graph_builder = StateGraph(ParentState)\n",
    "graph_builder.add_node(\"transform\", transform)\n",
    "graph_builder.add_edge(START, \"transform\")\n",
    "graph_builder.add_edge(\"transform\", END)\n",
    "graph = graph_builder.compile(checkpointer=checkpointer)"
   ]
  },
  {
   "cell_type": "code",
   "execution_count": null,
   "metadata": {},
   "outputs": [],
   "source": [
    "print(\"=== MAIN GRAPH VISUAL ===\")\n",
    "display(Image(graph.get_graph().draw_mermaid_png()))"
   ]
  },
  {
   "cell_type": "markdown",
   "metadata": {},
   "source": [
    "## Game Execution\n",
    "\n",
    "Run the complete game with the updated logic."
   ]
  },
  {
   "cell_type": "code",
   "execution_count": null,
   "metadata": {},
   "outputs": [],
   "source": [
    "def run_game():\n",
    "    for event in graph.stream({\n",
    "        \"agent_1_choice_parent\": [],\n",
    "        \"agent_2_choice_parent\": []\n",
    "    }, subgraphs=True, config=config):\n",
    "        print(event)\n",
    "\n",
    "# Uncomment to run the game\n",
    "# run_game()"
   ]
  },
  {
   "cell_type": "markdown",
   "metadata": {},
   "source": [
    "## Key Changes from Original\n",
    "\n",
    "1. **Separate Agent Counters**: Each agent now has its own counter (`agent_1_counter`, `agent_2_counter`)\n",
    "2. **Sequential Execution**: Changed from parallel to sequential execution with loops\n",
    "3. **Loop Control**: Each agent can make up to 5 attempts before the game terminates\n",
    "4. **Counter Initialization**: Both counters start at 0 in the transform function\n",
    "5. **Conditional Edges**: Both agents have conditional edges that allow them to loop back to themselves\n",
    "\n",
    "The graph now shows a more controlled execution flow where agents take turns and the game has a clear termination condition based on attempt counts."
   ]
  }
 ],
 "metadata": {
  "kernelspec": {
   "display_name": "Python 3",
   "language": "python",
   "name": "python3"
  },
  "language_info": {
   "codemirror_mode": {
    "name": "ipython",
    "version": 3
   },
   "file_extension": ".py",
   "mimetype": "text/x-python",
   "name": "python",
   "nbconvert_exporter": "python",
   "pygments_lexer": "ipython3",
   "version": "3.8.5"
  }
 },
 "nbformat": 4,
 "nbformat_minor": 4
}
