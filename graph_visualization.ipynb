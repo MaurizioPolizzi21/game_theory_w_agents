{
 "cells": [
  {
   "cell_type": "markdown",
   "metadata": {},
   "source": [
    "# Prisoner's Dilemma Graph Visualization\n",
    "\n",
    "This notebook visualizes the LangGraph structure for the Prisoner's Dilemma game with parallel agent execution."
   ]
  },
  {
   "cell_type": "code",
   "execution_count": 2,
   "metadata": {},
   "outputs": [],
   "source": [
    "from langchain_ollama.llms import OllamaLLM\n",
    "from langgraph.graph import START, END, StateGraph, MessagesState\n",
    "from typing import TypedDict\n",
    "from langgraph.checkpoint.memory import InMemorySaver\n",
    "from prompt import game_prompt, good_player_prompt, bad_player_prompt\n",
    "import json\n",
    "from operator import add\n",
    "from IPython.display import Image, display\n",
    "from langchain_core.runnables.graph import CurveStyle, MermaidDrawMethod, NodeStyles"
   ]
  },
  {
   "cell_type": "code",
   "execution_count": 4,
   "metadata": {},
   "outputs": [],
   "source": [
    "# model setup\n",
    "model = \"mistral:latest\"\n",
    "llm = OllamaLLM(model=model)\n",
    "\n",
    "#memory setup\n",
    "checkpointer = InMemorySaver()\n",
    "config = { \"configurable\": { \"thread_id\": \"1\" } }"
   ]
  },
  {
   "cell_type": "code",
   "execution_count": 5,
   "metadata": {},
   "outputs": [],
   "source": [
    "# subgraph state setup\n",
    "class SubgraphState(TypedDict):\n",
    "    agent_1_prompt: str\n",
    "    agent_1_choice: list[str]\n",
    "    agent_2_prompt: str\n",
    "    agent_2_choice: list[str]\n",
    "\n",
    "# subgraph nodes setup\n",
    "def Agent1(state: SubgraphState):\n",
    "    messages = llm.invoke(state[\"agent_1_prompt\"])\n",
    "    if isinstance(messages, str):\n",
    "        response= json.loads(messages)\n",
    "    return {\"agent_1_choice\": state[\"agent_1_choice\"] + [response[\"agent_choice\"]]}\n",
    "\n",
    "def Agent2(state: SubgraphState):\n",
    "    messages = llm.invoke(state[\"agent_2_prompt\"])\n",
    "    if isinstance(messages, str):\n",
    "        response= json.loads(messages)\n",
    "    return {\"agent_2_choice\": state[\"agent_2_choice\"] + [response[\"agent_choice\"]]}"
   ]
  },
  {
   "cell_type": "code",
   "execution_count": 6,
   "metadata": {},
   "outputs": [],
   "source": [
    "# subgraph setup - PARALLEL EXECUTION\n",
    "subgraph_builder = StateGraph(SubgraphState)\n",
    "subgraph_builder.add_node(\"Agent1\", Agent1)\n",
    "subgraph_builder.add_node(\"Agent2\", Agent2)\n",
    "# adding parallel edges - both agents start simultaneously\n",
    "subgraph_builder.add_edge(START, \"Agent1\")\n",
    "subgraph_builder.add_edge(START, \"Agent2\")\n",
    "subgraph_builder.add_edge(\"Agent1\", END)\n",
    "subgraph_builder.add_edge(\"Agent2\", END)\n",
    "subgraph = subgraph_builder.compile(checkpointer=checkpointer)"
   ]
  },
  {
   "cell_type": "code",
   "execution_count": 7,
   "metadata": {},
   "outputs": [],
   "source": [
    "# graph state setup\n",
    "class ParentState(MessagesState):\n",
    "    agent_1_choice_parent : list[str]\n",
    "    agent_2_choice_parent : list[str]\n",
    "    \n",
    "# graph node setup\n",
    "def transform(state: ParentState):\n",
    "    response = subgraph.invoke({\n",
    "        \"agent_1_choice\": state[\"agent_1_choice_parent\"], \n",
    "        \"agent_2_choice\": state[\"agent_2_choice_parent\"], \n",
    "        \"agent_1_prompt\": good_player_prompt, \n",
    "        \"agent_2_prompt\": bad_player_prompt\n",
    "    }, config=config)\n",
    "    \n",
    "    return {\n",
    "        \"agent_1_choice_parent\": response[\"agent_1_choice\"], \n",
    "        \"agent_2_choice_parent\": response[\"agent_2_choice\"]\n",
    "    }\n",
    "\n",
    "graph_builder = StateGraph(ParentState)\n",
    "graph_builder.add_node(\"transform\", transform)\n",
    "graph_builder.add_edge(START, \"transform\")\n",
    "graph_builder.add_edge(\"transform\", END)\n",
    "graph = graph_builder.compile(checkpointer=checkpointer)"
   ]
  },
  {
   "cell_type": "markdown",
   "metadata": {},
   "source": [
    "## Subgraph Visualization (Parallel Agent Execution)"
   ]
  },
  {
   "cell_type": "code",
   "execution_count": 8,
   "metadata": {},
   "outputs": [
    {
     "name": "stdout",
     "output_type": "stream",
     "text": [
      "=== SUBGRAPH VISUAL ===\n"
     ]
    },
    {
     "data": {
      "image/png": "[encoded data removed]",
      "text/plain": [
       "<IPython.core.display.Image object>"
      ]
     },
     "metadata": {},
     "output_type": "display_data"
    }
   ],
   "source": [
    "print(\"=== SUBGRAPH VISUAL ===\")\n",
    "display(Image(subgraph.get_graph().draw_mermaid_png()))"
   ]
  },
  {
   "cell_type": "markdown",
   "metadata": {},
   "source": [
    "## Main Graph Visualization"
   ]
  },
  {
   "cell_type": "code",
   "execution_count": 9,
   "metadata": {},
   "outputs": [
    {
     "name": "stdout",
     "output_type": "stream",
     "text": [
      "=== MAIN GRAPH VISUAL ===\n"
     ]
    },
    {
     "data": {
      "image/png": "[encoded data removed]",
      "text/plain": [
       "<IPython.core.display.Image object>"
      ]
     },
     "metadata": {},
     "output_type": "display_data"
    }
   ],
   "source": [
    "print(\"=== MAIN GRAPH VISUAL ===\")\n",
    "display(Image(graph.get_graph().draw_mermaid_png()))"
   ]
  },
  {
   "cell_type": "markdown",
   "metadata": {},
   "source": [
    "## Run the Game"
   ]
  },
  {
   "cell_type": "code",
   "execution_count": null,
   "metadata": {},
   "outputs": [
    {
     "name": "stdout",
     "output_type": "stream",
     "text": [
      "((), {'transform': {'agent_1_choice_parent': ['COOPERATE'], 'agent_2_choice_parent': ['DEFECT']}})\n"
     ]
    }
   ],
   "source": [
    "# Run the game\n",
    "def run_game():\n",
    "    for event in graph.stream({\n",
    "        \"messages\": [{\"role\": \"user\", \"content\": game_prompt}], \n",
    "        \"agent_1_choice_parent\": [], \n",
    "        \"agent_2_choice_parent\": []\n",
    "    }, subgraphs=True, config=config):\n",
    "        print(event)\n",
    "\n",
    "run_game()"
   ]
  },
  {
   "cell_type": "code",
   "execution_count": null,
   "metadata": {},
   "outputs": [],
   "source": []
  }
 ],
 "metadata": {
  "kernelspec": {
   "display_name": ".venv",
   "language": "python",
   "name": "python3"
  },
  "language_info": {
   "codemirror_mode": {
    "name": "ipython",
    "version": 3
   },
   "file_extension": ".py",
   "mimetype": "text/x-python",
   "name": "python",
   "nbconvert_exporter": "python",
   "pygments_lexer": "ipython3",
   "version": "3.13.3"
  }
 },
 "nbformat": 4,
 "nbformat_minor": 4
}
