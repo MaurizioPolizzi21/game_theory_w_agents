{
 "cells": [
  {
   "cell_type": "markdown",
   "metadata": {},
   "source": [
    "# Prisoner's Dilemma Graph Visualization\n",
    "\n",
    "This notebook demonstrates the updated Prisoner's Dilemma implementation where:\n",
    "- Agents can see each other's choices and counters\n",
    "- Strict JSON output format is enforced\n",
    "- Sequential execution with 5 rounds per agent"
   ]
  },
  {
   "cell_type": "code",
   "execution_count": 1,
   "metadata": {},
   "outputs": [],
   "source": [
    "from langchain_ollama.llms import OllamaLLM\n",
    "from langgraph.graph import START, END, StateGraph, MessagesState\n",
    "from typing import TypedDict\n",
    "from langgraph.checkpoint.memory import InMemorySaver\n",
    "from prompt import agent1_prompt, agent2_prompt\n",
    "import json\n",
    "from IPython.display import Image, display\n",
    "from langchain_core.runnables.graph import CurveStyle, MermaidDrawMethod, NodeStyles"
   ]
  },
  {
   "cell_type": "markdown",
   "metadata": {},
   "source": [
    "## Model and Memory Setup"
   ]
  },
  {
   "cell_type": "code",
   "execution_count": 2,
   "metadata": {},
   "outputs": [],
   "source": [
    "# Model setup\n",
    "model = \"mistral:latest\"\n",
    "llm = OllamaLLM(model=model)\n",
    "\n",
    "# Memory setup\n",
    "checkpointer = InMemorySaver()\n",
    "config = {\"configurable\": {\"thread_id\": \"1\"}}"
   ]
  },
  {
   "cell_type": "markdown",
   "metadata": {},
   "source": [
    "## State Classes"
   ]
  },
  {
   "cell_type": "code",
   "execution_count": 3,
   "metadata": {},
   "outputs": [],
   "source": [
    "# Main subgraph state setup\n",
    "class SubgraphState(TypedDict):\n",
    "    agent_1_prompt: str\n",
    "    agent_1_choice: list[str]\n",
    "    agent_1_counter: int\n",
    "    agent_2_prompt: str\n",
    "    agent_2_choice: list[str]\n",
    "    agent_2_counter: int"
   ]
  },
  {
   "cell_type": "markdown",
   "metadata": {},
   "source": [
    "## Agent Nodes"
   ]
  },
  {
   "cell_type": "code",
   "execution_count": null,
   "metadata": {},
   "outputs": [],
   "source": [
    "# subgraph nodes setup\n",
    "def Agent1(state: SubgraphState):\n",
    "    \"\"\"\n",
    "    This node takes in the current state of the subgraph and returns a new state with the agent's latest choice.\n",
    "    The agent is given the other agent's latest choices as context.\n",
    "    \"\"\"\n",
    "    opponent_last_choice = state['agent_2_choice'][-1] if state['agent_2_choice'] else None\n",
    "    opponent_second_last_choice = state['agent_2_choice'][-2] if len(state['agent_2_choice']) >= 2 else None\n",
    "    prompt_with_data = f\"\"\"{state['agent_1_prompt']}\\n\\n\n",
    "    Your opponent's latest choices is : {opponent_last_choice}\\n\n",
    "    Your opponent's second last choices is : {opponent_second_last_choice}\"\"\"\n",
    "    messages = llm.invoke(prompt_with_data)\n",
    "    if isinstance(messages, str):\n",
    "        response = json.loads(messages)\n",
    "    return {\"agent_1_choice\": state[\"agent_1_choice\"] + [response[\"agent_choice\"]], \"agent_1_counter\": state[\"agent_1_counter\"] + 1}\n",
    "\n",
    "def Agent2(state: SubgraphState):\n",
    "    \"\"\"\n",
    "    This node takes in the current state of the subgraph and returns a new state with the agent's latest choice.\n",
    "    The agent is given the other agent's latest choices as context.\n",
    "    \"\"\"\n",
    "    opponent_last_choice = state['agent_1_choice'][-1] if state['agent_1_choice'] else None\n",
    "    opponent_second_last_choice = state['agent_1_choice'][-2] if len(state['agent_1_choice']) >= 2 else None\n",
    "    prompt_with_data = f\"\"\"{state['agent_2_prompt']}\\n\\n\n",
    "    Your opponent's latest choices is : {opponent_last_choice}\\n\n",
    "    Your opponent's second last choices is : {opponent_second_last_choice}\"\"\"\n",
    "    messages = llm.invoke(prompt_with_data)\n",
    "    if isinstance(messages, str):\n",
    "        response = json.loads(messages)\n",
    "    return {\"agent_2_choice\": state[\"agent_2_choice\"] + [response[\"agent_choice\"]], \"agent_2_counter\": state[\"agent_2_counter\"] + 1}\n",
    "    \n",
    "def should_continue(state: SubgraphState) -> str:\n",
    "    \"\"\"Check if both agents have made 5 attempts\"\"\"\n",
    "    if state[\"agent_1_counter\"] < 5 or state[\"agent_2_counter\"] < 5:\n",
    "        return \"loop\"\n",
    "    else:\n",
    "        return \"exit\""
   ]
  },
  {
   "cell_type": "markdown",
   "metadata": {},
   "source": [
    "## Build the Subgraph"
   ]
  },
  {
   "cell_type": "code",
   "execution_count": 5,
   "metadata": {},
   "outputs": [],
   "source": [
    "# subgraph setup\n",
    "subgraph_builder = StateGraph(SubgraphState)\n",
    "subgraph_builder.add_node(\"Agent1\", Agent1)\n",
    "subgraph_builder.add_node(\"Agent2\", Agent2)\n",
    "# adding parallel edges\n",
    "subgraph_builder.add_edge(START, \"Agent1\")\n",
    "subgraph_builder.add_edge(START, \"Agent2\")\n",
    "subgraph_builder.add_conditional_edges(\"Agent1\",\n",
    "                                should_continue,\n",
    "                                {\n",
    "                                    \"loop\": \"Agent1\",  # If 'loop', repeat the loop\n",
    "                                    \"exit\": END,       # If 'exit', terminate the workflow\n",
    "                                })\n",
    "subgraph_builder.add_conditional_edges(\"Agent2\",\n",
    "                                should_continue,\n",
    "                                {\n",
    "                                    \"loop\": \"Agent2\",  # If 'loop', repeat the loop\n",
    "                                    \"exit\": END,       # If 'exit', terminate the workflow\n",
    "                                })\n",
    "subgraph = subgraph_builder.compile(checkpointer=checkpointer)"
   ]
  },
  {
   "cell_type": "markdown",
   "metadata": {},
   "source": [
    "## Visualize the Graph"
   ]
  },
  {
   "cell_type": "code",
   "execution_count": 6,
   "metadata": {},
   "outputs": [
    {
     "name": "stdout",
     "output_type": "stream",
     "text": [
      "=== SUBGRAPH VISUALIZATION ===\n"
     ]
    },
    {
     "data": {
      "image/png": "[encoded data removed]",
      "text/plain": [
       "<IPython.core.display.Image object>"
      ]
     },
     "metadata": {},
     "output_type": "display_data"
    }
   ],
   "source": [
    "print(\"=== SUBGRAPH VISUALIZATION ===\")\n",
    "display(Image(subgraph.get_graph().draw_mermaid_png()))"
   ]
  },
  {
   "cell_type": "markdown",
   "metadata": {},
   "source": [
    "## Main Graph Setup\n",
    "\n",
    "The main graph contains the parent state and transform function that initializes and invokes the subgraph."
   ]
  },
  {
   "cell_type": "code",
   "execution_count": 7,
   "metadata": {},
   "outputs": [],
   "source": [
    "# graph state setup\n",
    "class ParentState(TypedDict):\n",
    "    agent_1_choice_parent: list[str]\n",
    "    agent_2_choice_parent: list[str]\n",
    "    payoff_agent_prompt : str\n",
    "    payoffs: str\n",
    "    \n",
    "# graph node setup - UPDATED to include counter initialization\n",
    "def get_subgraph_output(state: ParentState):\n",
    "    response = subgraph.invoke({\"agent_1_choice\": state[\"agent_1_choice_parent\"], \n",
    "    \"agent_2_choice\": state[\"agent_2_choice_parent\"], \"agent_1_prompt\": agent1_prompt,\n",
    "    \"agent_2_prompt\": agent2_prompt, \"agent_1_counter\": 1, \"agent_2_counter\": 1}, config=config) \n",
    "    return {\"agent_1_choice_parent\": response[\"agent_1_choice\"], \"agent_2_choice_parent\": response[\"agent_2_choice\"]}\n",
    "\n",
    "def get_payoff(state: ParentState):\n",
    "    empty_list_payoff_agent_1 = 0\n",
    "    empty_list_payoff_agent_2 = 0\n",
    "\n",
    "    for i in range(len(state[\"agent_1_choice_parent\"])):\n",
    "        for j in range(len(state[\"agent_2_choice_parent\"])):\n",
    "            if i == j:\n",
    "                if state[\"agent_1_choice_parent\"][i] == \"COOPERATE\" and state[\"agent_2_choice_parent\"][j] == \"COOPERATE\":\n",
    "                    empty_list_payoff_agent_1 += 3\n",
    "                    empty_list_payoff_agent_2 += 3\n",
    "                elif state[\"agent_1_choice_parent\"][i] == \"COOPERATE\" and state[\"agent_2_choice_parent\"][j] == \"DEFECT\":\n",
    "                    empty_list_payoff_agent_1 += 0\n",
    "                    empty_list_payoff_agent_2 += 5\n",
    "                elif state[\"agent_1_choice_parent\"][i] == \"DEFECT\" and state[\"agent_2_choice_parent\"][j] == \"COOPERATE\":\n",
    "                    empty_list_payoff_agent_1 += 5\n",
    "                    empty_list_payoff_agent_2 += 0\n",
    "                elif state[\"agent_1_choice_parent\"][i] == \"DEFECT\" and state[\"agent_2_choice_parent\"][j] == \"DEFECT\":\n",
    "                    empty_list_payoff_agent_1 += 1\n",
    "                    empty_list_payoff_agent_2 += 1\n",
    "            else:\n",
    "                continue\n",
    "    return {\"payoffs\": {\"agent_1_payoff\": empty_list_payoff_agent_1, \"agent_2_payoff\": empty_list_payoff_agent_2}}"
   ]
  },
  {
   "cell_type": "code",
   "execution_count": 8,
   "metadata": {},
   "outputs": [],
   "source": [
    "graph_builder = StateGraph(ParentState)\n",
    "graph_builder.add_node(\"get_subgraph_output\", get_subgraph_output)\n",
    "graph_builder.add_node(\"get_payoff\", get_payoff)\n",
    "graph_builder.add_edge(START, \"get_subgraph_output\")\n",
    "graph_builder.add_edge(\"get_subgraph_output\", \"get_payoff\")\n",
    "graph_builder.add_edge(\"get_payoff\", END)\n",
    "graph = graph_builder.compile(checkpointer=checkpointer)"
   ]
  },
  {
   "cell_type": "code",
   "execution_count": 9,
   "metadata": {},
   "outputs": [
    {
     "name": "stdout",
     "output_type": "stream",
     "text": [
      "=== MAIN GRAPH VISUAL ===\n"
     ]
    },
    {
     "data": {
      "image/png": "[encoded data removed]",
      "text/plain": [
       "<IPython.core.display.Image object>"
      ]
     },
     "metadata": {},
     "output_type": "display_data"
    }
   ],
   "source": [
    "print(\"=== MAIN GRAPH VISUAL ===\")\n",
    "display(Image(graph.get_graph().draw_mermaid_png()))"
   ]
  },
  {
   "cell_type": "markdown",
   "metadata": {},
   "source": [
    "## Run a Game Session"
   ]
  },
  {
   "cell_type": "code",
   "execution_count": 10,
   "metadata": {},
   "outputs": [
    {
     "name": "stdout",
     "output_type": "stream",
     "text": [
      "((), {'get_subgraph_output': {'agent_1_choice_parent': ['COOPERATE', 'COOPERATE', 'DEFECT', 'DEFECT', 'COOPERATE'], 'agent_2_choice_parent': ['COOPERATE', 'DEFECT', 'DEFECT', 'COOPERATE', 'COOPERATE']}})\n",
      "((), {'get_payoff': {'payoffs': {'agent_1_payoff': 12, 'agent_2_payoff': 12}}})\n"
     ]
    }
   ],
   "source": [
    "def run_game():\n",
    "    for event in graph.stream({ \n",
    "        \"agent_1_choice_parent\": [], \n",
    "        \"agent_2_choice_parent\": [],\n",
    "    }, subgraphs=True, config=config):\n",
    "        print(event)\n",
    "\n",
    "run_game()"
   ]
  }
 ],
 "metadata": {
  "kernelspec": {
   "display_name": ".venv",
   "language": "python",
   "name": "python3"
  },
  "language_info": {
   "codemirror_mode": {
    "name": "ipython",
    "version": 3
   },
   "file_extension": ".py",
   "mimetype": "text/x-python",
   "name": "python",
   "nbconvert_exporter": "python",
   "pygments_lexer": "ipython3",
   "version": "3.13.3"
  }
 },
 "nbformat": 4,
 "nbformat_minor": 4
}
